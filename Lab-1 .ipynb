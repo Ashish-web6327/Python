{
 "cells": [
  {
   "cell_type": "markdown",
   "metadata": {},
   "source": [
    "# Title:rotation of the list"
   ]
  },
  {
   "cell_type": "markdown",
   "metadata": {},
   "source": [
    "## Code:\n"
   ]
  },
  {
   "cell_type": "code",
   "execution_count": 19,
   "metadata": {},
   "outputs": [
    {
     "name": "stdout",
     "output_type": "stream",
     "text": [
      "Enter the no of element you want to rotate : 3\n",
      "The original list is:  [1, 2, 3, 4, 5, 6]\n",
      "Right rotated list is:  [4, 5, 6, 1, 2, 3]\n",
      "Left rotated list is:  [1, 2, 3, 4, 5, 6]\n"
     ]
    }
   ],
   "source": [
    "n=int(input(\"Enter the no of element you want to rotate : \"))\n",
    "l=[1,2,3,4,5,6] \n",
    "print(\"The original list is: \",l)\n",
    "l=l[n:]+l[:n]\n",
    "print(\"Right rotated list is: \",l);\n",
    "l=l[-n:]+l[:n]\n",
    "print(\"Left rotated list is: \",l)"
   ]
  },
  {
   "cell_type": "markdown",
   "metadata": {},
   "source": [
    "# Title: Prime number in range 1 to 1000"
   ]
  },
  {
   "cell_type": "markdown",
   "metadata": {},
   "source": [
    "## Code: "
   ]
  },
  {
   "cell_type": "code",
   "execution_count": 20,
   "metadata": {},
   "outputs": [
    {
     "name": "stdout",
     "output_type": "stream",
     "text": [
      "Enter the lower limit1\n",
      "Enter the upper limit1000\n",
      "Prime numbers between 1 and 1000 are:\n",
      "2  3  5  7  11  13  17  19  23  29  31  37  41  43  47  53  59  61  67  71  73  79  83  89  97  101  103  107  109  113  127  131  137  139  149  151  157  163  167  173  179  181  191  193  197  199  211  223  227  229  233  239  241  251  257  263  269  271  277  281  283  293  307  311  313  317  331  337  347  349  353  359  367  373  379  383  389  397  401  409  419  421  431  433  439  443  449  457  461  463  467  479  487  491  499  503  509  521  523  541  547  557  563  569  571  577  587  593  599  601  607  613  617  619  631  641  643  647  653  659  661  673  677  683  691  701  709  719  727  733  739  743  751  757  761  769  773  787  797  809  811  821  823  827  829  839  853  857  859  863  877  881  883  887  907  911  919  929  937  941  947  953  967  971  977  983  991  997  "
     ]
    }
   ],
   "source": [
    "lower=int(input(\"Enter the lower limit\"))\n",
    "upper=int(input(\"Enter the upper limit\"))\n",
    "print(\"Prime numbers between\", lower, \"and\", upper, \"are:\")\n",
    "\n",
    "for num in range(lower, upper + 1):\n",
    "   # all prime numbers are greater than 1\n",
    "   if num > 1:\n",
    "       for i in range(2, num):\n",
    "           if (num % i) == 0:\n",
    "               break\n",
    "       else:\n",
    "           print(num,end=\"  \")"
   ]
  },
  {
   "cell_type": "markdown",
   "metadata": {},
   "source": [
    "# Title: Print the Fibonacci Serise"
   ]
  },
  {
   "cell_type": "markdown",
   "metadata": {},
   "source": [
    "## Theory:\n",
    "\n",
    "The Fibonacci Sequence is the series of numbers:\n",
    "\n",
    "0, 1, 1, 2, 3, 5, 8, 13, 21, 34, ...\n",
    "\n",
    "The next number is found by adding up the two numbers before it:\n",
    "\n",
    "the 2 is found by adding the two numbers before it (1+1),\n",
    "the 3 is found by adding the two numbers before it (1+2),\n",
    "the 5 is (2+3),\n",
    "and so on!"
   ]
  },
  {
   "cell_type": "markdown",
   "metadata": {},
   "source": [
    "## Code: "
   ]
  },
  {
   "cell_type": "code",
   "execution_count": 23,
   "metadata": {},
   "outputs": [
    {
     "name": "stdout",
     "output_type": "stream",
     "text": [
      "Enter the value of 'n': 10\n",
      "Fibonacci Series: \n",
      "0 1 1 2 3 5 8 13 21 34 "
     ]
    }
   ],
   "source": [
    "n = int(input(\"Enter the value of 'n': \"))\n",
    "a = 0\n",
    "b = 1\n",
    "sum = 0\n",
    "count = 1\n",
    "print(\"Fibonacci Series: \")\n",
    "while(count <= n):\n",
    "  print(sum,end=\" \")\n",
    "  count += 1\n",
    "  a = b\n",
    "  b = sum\n",
    "  sum = a + b"
   ]
  },
  {
   "cell_type": "markdown",
   "metadata": {},
   "source": [
    "# Title: Factorial of the user given number"
   ]
  },
  {
   "cell_type": "markdown",
   "metadata": {},
   "source": [
    "## Theory:\n",
    "A factorial is a function that multiplies a number by every number below it.\n",
    "\n",
    "$$ n!= n(n-1)(n-2)(n-3)(n-4)(n-5)...........$$\n",
    "Example:-\n",
    "$$5!=5*4*3*2*1=120$$"
   ]
  },
  {
   "cell_type": "code",
   "execution_count": 26,
   "metadata": {},
   "outputs": [
    {
     "name": "stdout",
     "output_type": "stream",
     "text": [
      "Enter the positive number: 5\n",
      "The factorial of 5 is 120\n"
     ]
    }
   ],
   "source": [
    "x=int(input(\"Enter the positive number: \"))\n",
    "fact=1\n",
    "if x<0:\n",
    "    print(\"Factorial is defined for non-negative integers only\")\n",
    "elif x==0:\n",
    "    print(\"The factorial of 0 is 1\")\n",
    "else:\n",
    "    for i in range(1,x+1):\n",
    "        fact=fact*i\n",
    "    print(\"The factorial of {0} is {1}\".format(x,fact))"
   ]
  },
  {
   "cell_type": "code",
   "execution_count": null,
   "metadata": {},
   "outputs": [],
   "source": []
  }
 ],
 "metadata": {
  "kernelspec": {
   "display_name": "Python 3",
   "language": "python",
   "name": "python3"
  },
  "language_info": {
   "codemirror_mode": {
    "name": "ipython",
    "version": 3
   },
   "file_extension": ".py",
   "mimetype": "text/x-python",
   "name": "python",
   "nbconvert_exporter": "python",
   "pygments_lexer": "ipython3",
   "version": "3.8.5"
  }
 },
 "nbformat": 4,
 "nbformat_minor": 4
}
