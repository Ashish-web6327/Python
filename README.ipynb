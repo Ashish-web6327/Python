# Title: Find the given number is odd or even.
## Theory: 
An even number is a number that can be divided into two equal groups.
An odd number is a number that cannot be divided into two equal groups.
## Code:

while True:
    x = int(input('Enter a number or 0 to quit:'))    
    if x == 0:
        break
    if x%2==0:
        print(x, "is an even number")
    else:
        print(x, "is an odd number")

# Title: Check the given string is Palindrome or not.
# Code:

s=input("Enter a string:")
if(s==s[::-1]):
    print("The string is a palindrome")
else:
    print("Not a palindrome")

# Title: Print all armstrong number in user given range.
# Code:

l=int(input("Enter lower range : "))  
u=int(input("Enter upper range : "))  
print("the armstrong no. between {0} and {1} are: ".format(l,u))  
for n in range(l,u+1):  
   sum=0  
   temp=n  
   while temp>0:  
       r=temp % 10  
       sum=sum+r** 3  
       temp=temp//10  
  
   if n==sum:  
       print(n,end=" ") 

# Title: Program for finding the area of Triangle.
# Theory: 
The formula for finding area of triangle:
$$ area= \sqrt[2]{(s*(s-a)*(s-b)*(s-c))}$$
$$ where s=\frac{(a+b+c)}{2}$$

a=float(input('Enter 1st side '))
b=float(input('Enter 2nd side '))
c=float(input('Enter 3rd side ' ))
s=(a + b + c)/2
a=(s*(s-a)*(s-b)*(s-c))**0.5
print('The area of the triangle is %0.4f' %a)

